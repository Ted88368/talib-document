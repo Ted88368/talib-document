{
 "cells": [
  {
   "cell_type": "markdown",
   "metadata": {},
   "source": [
    "## EMA 与 MACD 配合使用\n",
    "\n",
    "MACD 是基于 EMA 的动量指标，由快线（MACD 线）、慢线（信号线）和柱状图（Histogram）组成。\n",
    "\n",
    "#### 使用方法：\n",
    "+ 当 MACD 线（快线）上穿信号线（慢线）时，可能是买入信号。\n",
    "+ 当 MACD 线下穿信号线时，可能是卖出信号。\n",
    "结合 EMA（如 12 日和 26 日 EMA），可以进一步确认趋势方向。"
   ]
  },
  {
   "cell_type": "code",
   "execution_count": 1,
   "metadata": {},
   "outputs": [],
   "source": [
    "# 获取数据源\n",
    "import baostock as bs\n",
    "import pandas as pd\n",
    "import logging\n",
    "import numpy as np\n",
    "\n",
    "def get_k_data(code, start, end):\n",
    "    lg = bs.login()\n",
    "    # 显示登陆返回信息\n",
    "    logging.info('login respond error_code:' + lg.error_code)\n",
    "    logging.info('login respond  error_msg:' + lg.error_msg)\n",
    "    # 获取股票数据\n",
    "    rs = bs.query_history_k_data_plus(code,\n",
    "                                              \"date,open,high,low,close,volume\",\n",
    "                                              start_date=start,\n",
    "                                              end_date=end,\n",
    "                                              frequency=\"d\",\n",
    "                                              adjustflag=\"3\")  # adjustflag=\"3\"表示不复权\n",
    "    data = rs.get_data()\n",
    "\n",
    "\n",
    "    # 登出baostock系统\n",
    "    bs.logout()\n",
    "\n",
    "    # 创建DataFrame\n",
    "    df = data[['date', 'open', 'high', 'low', 'close', 'volume']].rename(columns={'date': 'Date'})\n",
    "\n",
    "    # 转换日期格式\n",
    "    df['Date'] = pd.to_datetime(df['Date'])\n",
    "    df.set_index('Date', inplace=True)  # 设置日期列为索引\n",
    "\n",
    "    # 将空字符串替换为 NaN\n",
    "    df[['open', 'high', 'low', 'close', 'volume']] = df[['open', 'high', 'low', 'close', 'volume']].replace('', np.nan)\n",
    "    # 去除包含空值的行\n",
    "    df = df.dropna(subset=['open', 'high', 'low', 'close', 'volume'])\n",
    "\n",
    "    # 将股价数据转换为数值类型\n",
    "    df[['open', 'high', 'low', 'close', 'volume']] = df[['open', 'high', 'low', 'close', 'volume']].astype(float)\n",
    "    return df\n"
   ]
  },
  {
   "cell_type": "code",
   "execution_count": 2,
   "metadata": {},
   "outputs": [
    {
     "name": "stdout",
     "output_type": "stream",
     "text": [
      "login success!\n",
      "logout success!\n"
     ]
    }
   ],
   "source": [
    "stock_code = \"sh.603486\"  # 沪深300\n",
    "start_date = \"2024-01-01\"\n",
    "end_date = \"2025-12-31\"\n",
    "\n",
    "df = get_k_data(stock_code, start_date, end_date)"
   ]
  },
  {
   "cell_type": "code",
   "execution_count": 3,
   "metadata": {},
   "outputs": [
    {
     "ename": "ImportError",
     "evalue": "dlopen(/Users/hy/.conda/envs/talib/lib/python3.10/site-packages/talib/_ta_lib.cpython-310-darwin.so, 0x0002): tried: '/Users/hy/.conda/envs/talib/lib/python3.10/site-packages/talib/_ta_lib.cpython-310-darwin.so' (mach-o file, but is an incompatible architecture (have 'x86_64', need 'arm64e' or 'arm64')), '/System/Volumes/Preboot/Cryptexes/OS/Users/hy/.conda/envs/talib/lib/python3.10/site-packages/talib/_ta_lib.cpython-310-darwin.so' (no such file), '/Users/hy/.conda/envs/talib/lib/python3.10/site-packages/talib/_ta_lib.cpython-310-darwin.so' (mach-o file, but is an incompatible architecture (have 'x86_64', need 'arm64e' or 'arm64'))",
     "output_type": "error",
     "traceback": [
      "\u001b[0;31m---------------------------------------------------------------------------\u001b[0m",
      "\u001b[0;31mImportError\u001b[0m                               Traceback (most recent call last)",
      "Cell \u001b[0;32mIn[3], line 1\u001b[0m\n\u001b[0;32m----> 1\u001b[0m \u001b[38;5;28;01mimport\u001b[39;00m\u001b[38;5;250m \u001b[39m\u001b[38;5;21;01mtalib\u001b[39;00m\n\u001b[1;32m      3\u001b[0m \u001b[38;5;66;03m# 计算MACD\u001b[39;00m\n\u001b[1;32m      4\u001b[0m \u001b[38;5;66;03m# 解释下 MACD 的参数：fastperiod=12, slowperiod=26, signalperiod=9\u001b[39;00m\n\u001b[1;32m      5\u001b[0m \u001b[38;5;66;03m# fastperiod：快速移动平均线的窗口期\u001b[39;00m\n\u001b[0;32m   (...)\u001b[0m\n\u001b[1;32m     12\u001b[0m \u001b[38;5;66;03m# MACD_hist：MACD的差值，即MACD线和信号线的差值\u001b[39;00m\n\u001b[1;32m     13\u001b[0m \u001b[38;5;66;03m# 怎么用？ \u001b[39;00m\n\u001b[1;32m     15\u001b[0m df[\u001b[38;5;124m'\u001b[39m\u001b[38;5;124mMACD\u001b[39m\u001b[38;5;124m'\u001b[39m], df[\u001b[38;5;124m'\u001b[39m\u001b[38;5;124mMACD_signal\u001b[39m\u001b[38;5;124m'\u001b[39m], df[\u001b[38;5;124m'\u001b[39m\u001b[38;5;124mMACD_hist\u001b[39m\u001b[38;5;124m'\u001b[39m] \u001b[38;5;241m=\u001b[39m talib\u001b[38;5;241m.\u001b[39mMACD(df[\u001b[38;5;124m'\u001b[39m\u001b[38;5;124mclose\u001b[39m\u001b[38;5;124m'\u001b[39m], fastperiod\u001b[38;5;241m=\u001b[39m\u001b[38;5;241m12\u001b[39m, slowperiod\u001b[38;5;241m=\u001b[39m\u001b[38;5;241m26\u001b[39m, signalperiod\u001b[38;5;241m=\u001b[39m\u001b[38;5;241m9\u001b[39m)\n",
      "File \u001b[0;32m~/.conda/envs/talib/lib/python3.10/site-packages/talib/__init__.py:109\u001b[0m\n\u001b[1;32m    105\u001b[0m \u001b[38;5;28;01melse\u001b[39;00m:\n\u001b[1;32m    106\u001b[0m     _wrapper \u001b[38;5;241m=\u001b[39m \u001b[38;5;28;01mlambda\u001b[39;00m x: x\n\u001b[0;32m--> 109\u001b[0m \u001b[38;5;28;01mfrom\u001b[39;00m\u001b[38;5;250m \u001b[39m\u001b[38;5;21;01m.\u001b[39;00m\u001b[38;5;21;01m_ta_lib\u001b[39;00m\u001b[38;5;250m \u001b[39m\u001b[38;5;28;01mimport\u001b[39;00m (\n\u001b[1;32m    110\u001b[0m     _ta_initialize, _ta_shutdown, MA_Type, __ta_version__,\n\u001b[1;32m    111\u001b[0m     _ta_set_unstable_period \u001b[38;5;28;01mas\u001b[39;00m set_unstable_period,\n\u001b[1;32m    112\u001b[0m     _ta_get_unstable_period \u001b[38;5;28;01mas\u001b[39;00m get_unstable_period,\n\u001b[1;32m    113\u001b[0m     _ta_set_compatibility \u001b[38;5;28;01mas\u001b[39;00m set_compatibility,\n\u001b[1;32m    114\u001b[0m     _ta_get_compatibility \u001b[38;5;28;01mas\u001b[39;00m get_compatibility,\n\u001b[1;32m    115\u001b[0m     __TA_FUNCTION_NAMES__\n\u001b[1;32m    116\u001b[0m )\n\u001b[1;32m    118\u001b[0m \u001b[38;5;66;03m# import all the func and stream functions\u001b[39;00m\n\u001b[1;32m    119\u001b[0m \u001b[38;5;28;01mfrom\u001b[39;00m\u001b[38;5;250m \u001b[39m\u001b[38;5;21;01m.\u001b[39;00m\u001b[38;5;21;01m_ta_lib\u001b[39;00m\u001b[38;5;250m \u001b[39m\u001b[38;5;28;01mimport\u001b[39;00m \u001b[38;5;241m*\u001b[39m\n",
      "\u001b[0;31mImportError\u001b[0m: dlopen(/Users/hy/.conda/envs/talib/lib/python3.10/site-packages/talib/_ta_lib.cpython-310-darwin.so, 0x0002): tried: '/Users/hy/.conda/envs/talib/lib/python3.10/site-packages/talib/_ta_lib.cpython-310-darwin.so' (mach-o file, but is an incompatible architecture (have 'x86_64', need 'arm64e' or 'arm64')), '/System/Volumes/Preboot/Cryptexes/OS/Users/hy/.conda/envs/talib/lib/python3.10/site-packages/talib/_ta_lib.cpython-310-darwin.so' (no such file), '/Users/hy/.conda/envs/talib/lib/python3.10/site-packages/talib/_ta_lib.cpython-310-darwin.so' (mach-o file, but is an incompatible architecture (have 'x86_64', need 'arm64e' or 'arm64'))"
     ]
    }
   ],
   "source": [
    "import talib\n",
    "\n",
    "# 计算MACD\n",
    "# 解释下 MACD 的参数：fastperiod=12, slowperiod=26, signalperiod=9\n",
    "# fastperiod：快速移动平均线的窗口期\n",
    "# slowperiod：慢速移动平均线的窗口期\n",
    "# signalperiod：MACD的窗口期\n",
    "\n",
    "# 返回结果是什么？\n",
    "# MACD：MACD线\n",
    "# MACD_signal：MACD的信号线\n",
    "# MACD_hist：MACD的差值，即MACD线和信号线的差值\n",
    "# 怎么用？ \n",
    "\n",
    "df['MACD'], df['MACD_signal'], df['MACD_hist'] = talib.MACD(df['close'], fastperiod=12, slowperiod=26, signalperiod=9)\n",
    "\n",
    "\n",
    "# 计算20日指数移动平均线\n",
    "df['EMA_20'] = talib.EMA(df['close'], timeperiod=20)\n",
    "\n",
    "# 计算60日指数移动平均线\n",
    "df['EMA_60'] = talib.EMA(df['close'], timeperiod=60)\n"
   ]
  },
  {
   "cell_type": "code",
   "execution_count": null,
   "metadata": {},
   "outputs": [],
   "source": [
    "df['MACD_hist']"
   ]
  },
  {
   "cell_type": "code",
   "execution_count": null,
   "metadata": {},
   "outputs": [],
   "source": [
    "import mplfinance as mpf\n",
    "import matplotlib.pyplot as plt\n",
    "\n",
    "# 找到买卖点\n",
    "# 策略说明\n",
    "# buy_signal 在 MACD 线上穿 MACD_signal 时为 True，表示买入。\n",
    "# sell_signal 在 MACD 线下穿 MACD_signal 时为 True，表示卖出。\n",
    "df['buy_signal'] = (df['MACD'] > df['MACD_signal']) & (df['MACD'].shift(1) <= df['MACD_signal'].shift(1))\n",
    "df['sell_signal'] = (df['MACD'] < df['MACD_signal']) & (df['MACD'].shift(1) >= df['MACD_signal'].shift(1))\n",
    "\n",
    "# 进一步优化：使用柱状图辅助判断趋势\n",
    "# strong_buy 结合 MACD_hist 确保上涨动能，strong_sell 结合 MACD_hist 确保下跌动能，减少误判。\n",
    "df['strong_buy'] = (df['buy_signal']) & (df['MACD_hist'] > 0.2)\n",
    "df['strong_sell'] = (df['sell_signal']) & (df['MACD_hist'] < -0.2)\n",
    "\n",
    "# 构造只有买卖出信号处的散点数据\n",
    "buy_points = df['close'].where(df['strong_buy'], np.nan)\n",
    "sell_points = df['close'].where(df['strong_sell'], np.nan)\n",
    "\n",
    "# 只要90天\n",
    "df = df.tail(90)\n",
    "buy_points = buy_points.tail(90)\n",
    "sell_points = sell_points.tail(90)\n",
    "\n",
    "\n",
    "aps = []\n",
    "# 创建附加图\n",
    "# 在主面板上添加 EMA20\n",
    "ap_ema20 = mpf.make_addplot(df['EMA_20'], panel=0, color='purple', width=2, ylabel='Price',label='EMA20')\n",
    "ap_ema60 = mpf.make_addplot(df['EMA_60'], panel=0, color='blue', width=2, ylabel='Price',label='EMA60')\n",
    "\n",
    "aps.append(ap_ema20)\n",
    "aps.append(ap_ema60)\n",
    "\n",
    "if buy_points.count() > 0:  \n",
    "    ap_buy = mpf.make_addplot(buy_points, type='scatter', markersize=100, marker='^', color='red', panel=0, ylabel='Price', label='Buy')\n",
    "    aps.append(ap_buy)\n",
    "\n",
    "if sell_points.count() > 0:\n",
    "    ap_sell = mpf.make_addplot(sell_points, type='scatter', markersize=100, marker='v', color='green', panel=0, ylabel='Price', label='Sell')\n",
    "    aps.append(ap_sell)\n",
    "\n",
    "# 在第二个面板（panel=1）中添加 MACD 相关数据\n",
    "ap_macd    = mpf.make_addplot(df['MACD'], panel=2, color='blue', width=1, label='MACD')\n",
    "ap_macds   = mpf.make_addplot(df['MACD_signal'], panel=2, color='red', width=1, label='MACD_signal')\n",
    "ap_macdhist= mpf.make_addplot(df['MACD_hist'], panel=2,  type='bar', color='gray', width=0.5, label='MACD_hist')  \n",
    "aps.append(ap_macd)\n",
    "aps.append(ap_macds)\n",
    "aps.append(ap_macdhist)\n",
    "\n",
    "\n",
    "# 创建自定义风格，设置中文字体\n",
    "my_style = mpf.make_mpf_style(rc={'font.sans-serif': ['SimHei'],\n",
    "                                  'axes.unicode_minus': False})\n",
    "\n",
    "\n",
    "\n",
    "# 绘制图表，返回 figure 和 axes 列表\n",
    "fig, axes = mpf.plot(df, type='candle', style=my_style,addplot=aps,\n",
    "                       volume=True, returnfig=True, figsize=(15,10),\n",
    "                       title='K线图 + EMA20 与 MACD')\n",
    "\n",
    "plt.show()\n"
   ]
  }
 ],
 "metadata": {
  "kernelspec": {
   "display_name": "talib",
   "language": "python",
   "name": "python3"
  },
  "language_info": {
   "codemirror_mode": {
    "name": "ipython",
    "version": 3
   },
   "file_extension": ".py",
   "mimetype": "text/x-python",
   "name": "python",
   "nbconvert_exporter": "python",
   "pygments_lexer": "ipython3",
   "version": "3.10.17"
  }
 },
 "nbformat": 4,
 "nbformat_minor": 2
}
